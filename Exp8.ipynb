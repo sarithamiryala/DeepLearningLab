{
  "nbformat": 4,
  "nbformat_minor": 0,
  "metadata": {
    "colab": {
      "provenance": [],
      "authorship_tag": "ABX9TyM+v2kKI955EzIckJhrwUPH",
      "include_colab_link": true
    },
    "kernelspec": {
      "name": "python3",
      "display_name": "Python 3"
    },
    "language_info": {
      "name": "python"
    }
  },
  "cells": [
    {
      "cell_type": "markdown",
      "metadata": {
        "id": "view-in-github",
        "colab_type": "text"
      },
      "source": [
        "<a href=\"https://colab.research.google.com/github/sarithamiryala/DeepLearningLab/blob/main/Exp8.ipynb\" target=\"_parent\"><img src=\"https://colab.research.google.com/assets/colab-badge.svg\" alt=\"Open In Colab\"/></a>"
      ]
    },
    {
      "cell_type": "code",
      "execution_count": 1,
      "metadata": {
        "id": "rMW8l2qsCFOO"
      },
      "outputs": [],
      "source": [
        "class GridWorld:\n",
        "    def __init__(self, width, height):\n",
        "        self.width = width\n",
        "        self.height = height\n",
        "        self.grid = [[' ' for _ in range(width)] for _ in range(height)]\n",
        "        self.start = None\n",
        "        self.goal = None\n",
        "        self.agent_position = None\n",
        "        self.obstacles = set()\n",
        "\n",
        "    def set_start(self, x, y):\n",
        "        self.start = (x, y)\n",
        "        self.agent_position = (x, y)\n",
        "        self.grid[y][x] = 'S'\n",
        "\n",
        "    def set_goal(self, x, y):\n",
        "        self.goal = (x, y)\n",
        "        self.grid[y][x] = 'G'\n",
        "\n",
        "    def add_obstacle(self, x, y):\n",
        "        self.obstacles.add((x, y))\n",
        "        self.grid[y][x] = 'X'\n",
        "\n",
        "    def is_valid_move(self, x, y):\n",
        "        if (0 <= x < self.width) and (0 <= y < self.height) and ((x, y) not in self.obstacles):\n",
        "            return True\n",
        "        return False\n",
        "\n",
        "    def move_agent(self, direction):\n",
        "        x, y = self.agent_position\n",
        "        if direction == 'up' and self.is_valid_move(x, y - 1):\n",
        "            y -= 1\n",
        "        elif direction == 'down' and self.is_valid_move(x, y + 1):\n",
        "            y += 1\n",
        "        elif direction == 'left' and self.is_valid_move(x - 1, y):\n",
        "            x -= 1\n",
        "        elif direction == 'right' and self.is_valid_move(x + 1, y):\n",
        "            x += 1\n",
        "\n",
        "        # Update the agent position\n",
        "        if self.agent_position != (x, y):\n",
        "            self.grid[self.agent_position[1]][self.agent_position[0]] = ' '\n",
        "            self.agent_position = (x, y)\n",
        "            self.grid[y][x] = 'A'\n",
        "            if self.agent_position == self.goal:\n",
        "                print(\"Goal reached!\")\n",
        "                return True\n",
        "        return False\n",
        "\n",
        "    def print_grid(self):\n",
        "        for row in self.grid:\n",
        "            print(' '.join(row))\n",
        "        print()\n",
        "\n"
      ]
    },
    {
      "cell_type": "code",
      "source": [
        "# Usage:\n",
        "grid_world = GridWorld(5, 5)\n",
        "grid_world.set_start(0, 0)\n",
        "grid_world.set_goal(4, 4)\n",
        "grid_world.add_obstacle(2, 2)\n",
        "grid_world.add_obstacle(3, 2)\n",
        "grid_world.add_obstacle(2, 3)\n",
        "\n",
        "# Initial grid\n",
        "grid_world.print_grid()\n",
        "\n",
        "# Move the agent\n",
        "grid_world.move_agent('right')\n",
        "grid_world.move_agent('right')\n",
        "grid_world.move_agent('down')\n",
        "grid_world.move_agent('down')\n",
        "grid_world.move_agent('down')\n",
        "grid_world.move_agent('right')\n",
        "grid_world.move_agent('right')\n",
        "\n",
        "# Final grid\n",
        "grid_world.print_grid()"
      ],
      "metadata": {
        "colab": {
          "base_uri": "https://localhost:8080/"
        },
        "id": "kdOEbWcoCNQE",
        "outputId": "156e48a9-4f1e-45b6-964b-4e61256048db"
      },
      "execution_count": 2,
      "outputs": [
        {
          "output_type": "stream",
          "name": "stdout",
          "text": [
            "S        \n",
            "         \n",
            "    X X  \n",
            "    X    \n",
            "        G\n",
            "\n",
            "         \n",
            "        A\n",
            "    X X  \n",
            "    X    \n",
            "        G\n",
            "\n"
          ]
        }
      ]
    },
    {
      "cell_type": "code",
      "source": [],
      "metadata": {
        "id": "_Ea8IKcRCNky"
      },
      "execution_count": null,
      "outputs": []
    }
  ]
}